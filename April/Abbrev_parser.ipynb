{
 "cells": [
  {
   "cell_type": "markdown",
   "metadata": {},
   "source": [
    "# Brief Tutorial on iPython Notebooks\n",
    "+ What is an iPython Notebook?\n",
    "\n",
    "Briefly, an iPython notebook is a format for running and visualizing code. It takes advantage of your browser's ability to render attractive HTML documents in order to weave together words, code fragments and output.\n",
    "\n",
    "+ What is it good for?\n",
    "\n",
    "Teaching, since they allow for notes to be interspersed in the code. Visualizing and sharing notes.\n",
    "\n",
    "\n",
    "Which is what we're going to do today."
   ]
  },
  {
   "cell_type": "code",
   "execution_count": 2,
   "metadata": {
    "collapsed": true
   },
   "outputs": [],
   "source": [
    "import dendropy\n",
    "from dendropy.calculate import treemeasure\n",
    "import pandas\n",
    "import sys\n",
    "import glob\n",
    "import numpy as np"
   ]
  },
  {
   "cell_type": "markdown",
   "metadata": {},
   "source": [
    "Above, I created a couple global variables. I thought I might need them."
   ]
  },
  {
   "cell_type": "code",
   "execution_count": 5,
   "metadata": {
    "collapsed": true
   },
   "outputs": [],
   "source": [
    "def initializer():\n",
    "#Load Tree\n",
    "\ttree = dendropy.Tree.get(path='test/p3p511.tre', schema=\"nexus\", rooting=\"default-unrooted\")\n",
    "#Get Edges from tree\n",
    "\tedges = [edge.length for edge in tree.preorder_edge_iter()]\n",
    "\tedges[0] = 0\n",
    "#Start a pandas dataframe\n",
    "\tdf = pandas.DataFrame(pandas.Series(edges, edges),columns=['true'])\n",
    "#Use the correct edges as the header\n",
    "\treturn(df)"
   ]
  },
  {
   "cell_type": "markdown",
   "metadata": {},
   "source": [
    "Above, I read in a tree from standard input (the command line), extracted the branch lengths, and loaded them into a pandas dataframe"
   ]
  },
  {
   "cell_type": "code",
   "execution_count": 6,
   "metadata": {
    "collapsed": false
   },
   "outputs": [
    {
     "data": {
      "text/html": [
       "<div>\n",
       "<table border=\"1\" class=\"dataframe\">\n",
       "  <thead>\n",
       "    <tr style=\"text-align: right;\">\n",
       "      <th></th>\n",
       "      <th>true</th>\n",
       "    </tr>\n",
       "  </thead>\n",
       "  <tbody>\n",
       "    <tr>\n",
       "      <th>0.000000</th>\n",
       "      <td>0.000000</td>\n",
       "    </tr>\n",
       "    <tr>\n",
       "      <th>9.356401</th>\n",
       "      <td>9.356401</td>\n",
       "    </tr>\n",
       "    <tr>\n",
       "      <th>9.356401</th>\n",
       "      <td>9.356401</td>\n",
       "    </tr>\n",
       "    <tr>\n",
       "      <th>10.137514</th>\n",
       "      <td>10.137514</td>\n",
       "    </tr>\n",
       "    <tr>\n",
       "      <th>1.043598</th>\n",
       "      <td>1.043598</td>\n",
       "    </tr>\n",
       "    <tr>\n",
       "      <th>8.312804</th>\n",
       "      <td>8.312804</td>\n",
       "    </tr>\n",
       "    <tr>\n",
       "      <th>1.720851</th>\n",
       "      <td>1.720851</td>\n",
       "    </tr>\n",
       "    <tr>\n",
       "      <th>1.512300</th>\n",
       "      <td>1.512300</td>\n",
       "    </tr>\n",
       "    <tr>\n",
       "      <th>2.448403</th>\n",
       "      <td>2.448403</td>\n",
       "    </tr>\n",
       "    <tr>\n",
       "      <th>0.303546</th>\n",
       "      <td>0.303546</td>\n",
       "    </tr>\n",
       "    <tr>\n",
       "      <th>0.108144</th>\n",
       "      <td>0.108144</td>\n",
       "    </tr>\n",
       "    <tr>\n",
       "      <th>0.030058</th>\n",
       "      <td>0.030058</td>\n",
       "    </tr>\n",
       "    <tr>\n",
       "      <th>2.189501</th>\n",
       "      <td>2.189501</td>\n",
       "    </tr>\n",
       "    <tr>\n",
       "      <th>2.189501</th>\n",
       "      <td>2.189501</td>\n",
       "    </tr>\n",
       "    <tr>\n",
       "      <th>0.469887</th>\n",
       "      <td>0.469887</td>\n",
       "    </tr>\n",
       "    <tr>\n",
       "      <th>0.866793</th>\n",
       "      <td>0.866793</td>\n",
       "    </tr>\n",
       "    <tr>\n",
       "      <th>0.882879</th>\n",
       "      <td>0.882879</td>\n",
       "    </tr>\n",
       "    <tr>\n",
       "      <th>0.558929</th>\n",
       "      <td>0.558929</td>\n",
       "    </tr>\n",
       "    <tr>\n",
       "      <th>0.323950</th>\n",
       "      <td>0.323950</td>\n",
       "    </tr>\n",
       "    <tr>\n",
       "      <th>0.323950</th>\n",
       "      <td>0.323950</td>\n",
       "    </tr>\n",
       "    <tr>\n",
       "      <th>0.737129</th>\n",
       "      <td>0.737129</td>\n",
       "    </tr>\n",
       "    <tr>\n",
       "      <th>0.296698</th>\n",
       "      <td>0.296698</td>\n",
       "    </tr>\n",
       "    <tr>\n",
       "      <th>0.715844</th>\n",
       "      <td>0.715844</td>\n",
       "    </tr>\n",
       "    <tr>\n",
       "      <th>0.332175</th>\n",
       "      <td>0.332175</td>\n",
       "    </tr>\n",
       "    <tr>\n",
       "      <th>0.383670</th>\n",
       "      <td>0.383670</td>\n",
       "    </tr>\n",
       "    <tr>\n",
       "      <th>0.280442</th>\n",
       "      <td>0.280442</td>\n",
       "    </tr>\n",
       "    <tr>\n",
       "      <th>0.103228</th>\n",
       "      <td>0.103228</td>\n",
       "    </tr>\n",
       "    <tr>\n",
       "      <th>0.103228</th>\n",
       "      <td>0.103228</td>\n",
       "    </tr>\n",
       "    <tr>\n",
       "      <th>0.990024</th>\n",
       "      <td>0.990024</td>\n",
       "    </tr>\n",
       "    <tr>\n",
       "      <th>0.022519</th>\n",
       "      <td>0.022519</td>\n",
       "    </tr>\n",
       "    <tr>\n",
       "      <th>0.022519</th>\n",
       "      <td>0.022519</td>\n",
       "    </tr>\n",
       "    <tr>\n",
       "      <th>1.833047</th>\n",
       "      <td>1.833047</td>\n",
       "    </tr>\n",
       "    <tr>\n",
       "      <th>0.494656</th>\n",
       "      <td>0.494656</td>\n",
       "    </tr>\n",
       "    <tr>\n",
       "      <th>0.494656</th>\n",
       "      <td>0.494656</td>\n",
       "    </tr>\n",
       "    <tr>\n",
       "      <th>2.024749</th>\n",
       "      <td>2.024749</td>\n",
       "    </tr>\n",
       "    <tr>\n",
       "      <th>0.606499</th>\n",
       "      <td>0.606499</td>\n",
       "    </tr>\n",
       "    <tr>\n",
       "      <th>0.606499</th>\n",
       "      <td>0.606499</td>\n",
       "    </tr>\n",
       "    <tr>\n",
       "      <th>2.176176</th>\n",
       "      <td>2.176176</td>\n",
       "    </tr>\n",
       "    <tr>\n",
       "      <th>2.903476</th>\n",
       "      <td>2.903476</td>\n",
       "    </tr>\n",
       "    <tr>\n",
       "      <th>1.213558</th>\n",
       "      <td>1.213558</td>\n",
       "    </tr>\n",
       "    <tr>\n",
       "      <th>0.786356</th>\n",
       "      <td>0.786356</td>\n",
       "    </tr>\n",
       "    <tr>\n",
       "      <th>0.903562</th>\n",
       "      <td>0.903562</td>\n",
       "    </tr>\n",
       "    <tr>\n",
       "      <th>0.903562</th>\n",
       "      <td>0.903562</td>\n",
       "    </tr>\n",
       "    <tr>\n",
       "      <th>1.574319</th>\n",
       "      <td>1.574319</td>\n",
       "    </tr>\n",
       "    <tr>\n",
       "      <th>0.115598</th>\n",
       "      <td>0.115598</td>\n",
       "    </tr>\n",
       "    <tr>\n",
       "      <th>0.115598</th>\n",
       "      <td>0.115598</td>\n",
       "    </tr>\n",
       "    <tr>\n",
       "      <th>5.686189</th>\n",
       "      <td>5.686189</td>\n",
       "    </tr>\n",
       "    <tr>\n",
       "      <th>0.905763</th>\n",
       "      <td>0.905763</td>\n",
       "    </tr>\n",
       "    <tr>\n",
       "      <th>0.905763</th>\n",
       "      <td>0.905763</td>\n",
       "    </tr>\n",
       "  </tbody>\n",
       "</table>\n",
       "</div>"
      ],
      "text/plain": [
       "                true\n",
       "0.000000    0.000000\n",
       "9.356401    9.356401\n",
       "9.356401    9.356401\n",
       "10.137514  10.137514\n",
       "1.043598    1.043598\n",
       "8.312804    8.312804\n",
       "1.720851    1.720851\n",
       "1.512300    1.512300\n",
       "2.448403    2.448403\n",
       "0.303546    0.303546\n",
       "0.108144    0.108144\n",
       "0.030058    0.030058\n",
       "2.189501    2.189501\n",
       "2.189501    2.189501\n",
       "0.469887    0.469887\n",
       "0.866793    0.866793\n",
       "0.882879    0.882879\n",
       "0.558929    0.558929\n",
       "0.323950    0.323950\n",
       "0.323950    0.323950\n",
       "0.737129    0.737129\n",
       "0.296698    0.296698\n",
       "0.715844    0.715844\n",
       "0.332175    0.332175\n",
       "0.383670    0.383670\n",
       "0.280442    0.280442\n",
       "0.103228    0.103228\n",
       "0.103228    0.103228\n",
       "0.990024    0.990024\n",
       "0.022519    0.022519\n",
       "0.022519    0.022519\n",
       "1.833047    1.833047\n",
       "0.494656    0.494656\n",
       "0.494656    0.494656\n",
       "2.024749    2.024749\n",
       "0.606499    0.606499\n",
       "0.606499    0.606499\n",
       "2.176176    2.176176\n",
       "2.903476    2.903476\n",
       "1.213558    1.213558\n",
       "0.786356    0.786356\n",
       "0.903562    0.903562\n",
       "0.903562    0.903562\n",
       "1.574319    1.574319\n",
       "0.115598    0.115598\n",
       "0.115598    0.115598\n",
       "5.686189    5.686189\n",
       "0.905763    0.905763\n",
       "0.905763    0.905763"
      ]
     },
     "execution_count": 6,
     "metadata": {},
     "output_type": "execute_result"
    }
   ],
   "source": [
    "initializer()"
   ]
  },
  {
   "cell_type": "code",
   "execution_count": 8,
   "metadata": {
    "collapsed": false
   },
   "outputs": [],
   "source": [
    "def get_tree_list():\n",
    "\tcontainer = [file for file in glob.glob('test/*.con')]\n",
    "\ttreelist = dendropy.TreeList()\t\n",
    "\tfor file in container:\n",
    "\t\tprint(\"processing file %s\" % file)\n",
    "\t\ttree = dendropy.Tree.get(path=file, schema=\"nexus\", extract_comment_metadata=True, rooting=\"default-unrooted\")\n",
    "\t\ttreelist.append(tree)\n",
    "\treturn(treelist, container)"
   ]
  },
  {
   "cell_type": "markdown",
   "metadata": {},
   "source": [
    "Above, what we do is use glob to find all the files with a certain extension. Then, we iterate over those files, reading them in with Dendropy and parsing any annotations on them. Finally, we return the filename and the annotations to use in the next function"
   ]
  },
  {
   "cell_type": "code",
   "execution_count": 10,
   "metadata": {
    "collapsed": false
   },
   "outputs": [
    {
     "name": "stdout",
     "output_type": "stream",
     "text": [
      "processing file test/0.phy.out.ant.tre.con\n",
      "processing file test/11.phy.out.ant.tre.con\n"
     ]
    },
    {
     "data": {
      "text/plain": [
       "(<dendropy.datamodel.treecollectionmodel.TreeList at 0x108ca9310>,\n",
       " ['test/0.phy.out.ant.tre.con', 'test/11.phy.out.ant.tre.con'])"
      ]
     },
     "execution_count": 10,
     "metadata": {},
     "output_type": "execute_result"
    }
   ],
   "source": [
    "get_tree_list()"
   ]
  },
  {
   "cell_type": "code",
   "execution_count": 28,
   "metadata": {
    "collapsed": false
   },
   "outputs": [],
   "source": [
    "def proc_trees(treelist):\n",
    "\tprint treelist\n",
    "\tdf_list = []\n",
    "\tfor tree in treelist:\n",
    "\t\tprint('Calculating tree: %s' % tree)\n",
    "\t\tnode_hpd = [nd.annotations.findall(name='length_hpd95') for nd in tree.preorder_node_iter()]\n",
    "\t\tnode_med = [nd.annotations.findall(name='length_median') for nd in tree.preorder_node_iter()]\n",
    "\t\tkvs = [nd.values_as_dict() for nd in node_hpd]\n",
    "\t\tgnocchi = [kv.values() for kv in kvs]\n",
    "\t\tmax = [float(line[0][1]) for line in gnocchi]\n",
    "\t\tmin = [float(line[0][0]) for line in gnocchi]\n",
    "\t\tdf['min'] = pandas.Series(min, index=df.index)\n",
    "\t\tdf['max'] = pandas.Series(max, index=df.index)\n",
    "\t\tdf['boolcol'] = df['min'] < df['true']\n",
    "\t\tdf['boolcolmax'] = df['max'] > df['true']\n",
    "\t\tkvs = [nd.values_as_dict() for nd in node_med]\n",
    "\t\tgnocchi = [kv.values() for kv in kvs]\n",
    "\t\tmed = [float(line[0]) for line in gnocchi]\n",
    "\t\tdf['med'] = pandas.Series(med, index=df.index)\n",
    "\t\tdf['devcol'] = df['med'] - df['true']\n",
    "\t\tdf_list.append(df)\n",
    "\treturn(df_list)"
   ]
  },
  {
   "cell_type": "markdown",
   "metadata": {},
   "source": [
    "This takes the values in node_hpd and breaks them apart into individual lists of values."
   ]
  },
  {
   "cell_type": "markdown",
   "metadata": {},
   "source": [
    "Then we crunch them into a pandas dataframe and create two column, which are boolean. "
   ]
  },
  {
   "cell_type": "code",
   "execution_count": 31,
   "metadata": {
    "collapsed": false
   },
   "outputs": [],
   "source": [
    "\n",
    "def count_correct(df_list, container):\n",
    "\tfor file in container:\n",
    "\t\tprint('Exporting %s' % file)\n",
    "\t\tfor df in df_list:\n",
    "\t\t\tmin_true = (df.boolcol==True).sum()\n",
    "\t\t\tmax_true = int((df.boolcolmax==True).sum())\n",
    "\t\t\tcount = int(df.boolcol.count())\n",
    "\t\t\tdf.to_csv(\"%s.csv\" % file)\n",
    "\t\tprint('Number of nodes above minimum age %s \\n \\\n",
    "\t\tNumber of nodes under maximum: %s' % (min_true, max_true))\n",
    "\treturn(min_true, max_true)\t\n",
    "\t\t"
   ]
  },
  {
   "cell_type": "markdown",
   "metadata": {},
   "source": [
    "So there, all our functions are defined. Now we can call them all."
   ]
  },
  {
   "cell_type": "code",
   "execution_count": 32,
   "metadata": {
    "collapsed": false
   },
   "outputs": [
    {
     "name": "stdout",
     "output_type": "stream",
     "text": [
      "processing file test/0.phy.out.ant.tre.con\n",
      "processing file test/11.phy.out.ant.tre.con\n",
      "<TreeList 0x109cc8590 'None': [<Tree object at 0x1099dbb10>, <Tree object at 0x109c31d90>]>\n",
      "Calculating tree: (T1:9.35640137939,(T25:10.1375140233,(T2:8.31280356775,((((((T23:2.18950116362,T24:2.18950116362)1.00000000:0.0300579732931,((T22:0.882878879368,(T20:0.323950072248,T21:0.323950072248)1.00000000:0.558928807595)1.00000000:0.86679296346,((T16:0.715844268354,(T19:0.383669684338,(T17:0.103228071259,T18:0.103228071259)1.00000000:0.280441612419)1.00000000:0.332174582897)1.00000000:0.296698209859,(T14:0.0225187611628,T15:0.0225187611628)1.00000000:0.990023706061)1.00000000:0.737129361769)1.00000000:0.469887298606)1.00000000:0.108143996076,(T12:0.494656263466,T13:0.494656263466)1.00000000:1.83304687432)1.00000000:0.303545696931,(T10:0.606499327399,T11:0.606499327399)1.00000000:2.0247494974)1.00000000:2.44840335077,(T5:2.90347583317,((T8:0.903562158024,T9:0.903562158024)1.00000000:0.786355655195,(T6:0.115598368365,T7:0.115598368365)1.00000000:1.57431945284)1.00000000:1.21355802568)1.00000000:2.17617634871)1.00000000:1.51229999772,(T3:0.905763378125,T4:0.905763378125)1.00000000:5.68618882856)1.00000000:1.72085135639)1.00000000:1.04359779724)1.00000000:9.35640137939)1.00000000:0.0\n",
      "Calculating tree: (T1:9.35956802234,(T25:10.1531024873,(T2:8.20941723492,((((((T23:2.00495702605,T24:2.00495702605)1.00000000:0.0407613370085,((T22:0.716698431683,(T20:0.352360599453,T21:0.352360599453)1.00000000:0.364337830415)1.00000000:0.863634005121,((T16:0.678144867847,(T19:0.378520564476,(T17:0.114781720929,T18:0.114781720929)1.00000000:0.263738846896)1.00000000:0.299624300872)1.00000000:0.273054558944,(T14:0.0249872951152,T15:0.0249872951152)1.00000000:0.926212125463)1.00000000:0.62913301962)1.00000000:0.465385959468)1.00000000:0.0639515758199,(T12:0.547332351597,T13:0.547332351597)1.00000000:1.56233763929)1.00000000:0.284267415238,(T10:0.583132421189,T11:0.583132421189)1.00000000:1.81080497215)1.00000000:3.19099782918,(T5:2.80443538568,((T8:0.851554843658,T9:0.851554843658)1.00000000:0.876190670131,(T6:0.164100919323,T7:0.164100919323)1.00000000:1.56364459755)1.00000000:1.07668987178)1.00000000:2.78049984811)1.00000000:0.707417158102,(T3:0.977193469014,T4:0.977193469014)1.00000000:5.31515894282)1.00000000:1.91706482831)1.00000000:1.15015080972)1.00000000:9.35956802234)1.00000000:0.0\n",
      "Exporting test/0.phy.out.ant.tre.con\n",
      "Number of nodes above minimum age 46 \n",
      " \t\tNumber of nodes under maximum: 45\n",
      "Exporting test/11.phy.out.ant.tre.con\n",
      "Number of nodes above minimum age 46 \n",
      " \t\tNumber of nodes under maximum: 45\n"
     ]
    }
   ],
   "source": [
    "if __name__ == \"__main__\":\n",
    "\tdf = initializer()\n",
    "\ttreelist, container = get_tree_list()\n",
    "\tdf_list = proc_trees(treelist)\n",
    "\tmin, max = count_correct(df_list, container)\n"
   ]
  },
  {
   "cell_type": "code",
   "execution_count": 30,
   "metadata": {
    "collapsed": false
   },
   "outputs": [
    {
     "name": "stdout",
     "output_type": "stream",
     "text": [
      "                true           min        max boolcol boolcolmax       med  \\\n",
      "0.000000    0.000000  0.000000e+00   0.000000   False      False  0.000000   \n",
      "9.356401    9.356401  8.275043e+00  10.564130    True       True  9.285030   \n",
      "9.356401    9.356401  8.275043e+00  10.564130    True       True  9.285030   \n",
      "10.137514  10.137514  8.380176e+00  12.342090    True       True  9.978896   \n",
      "1.043598    1.043598  1.476971e-01   2.238679    True       True  1.082332   \n",
      "8.312804    8.312804  7.626370e+00   8.818500    True       True  8.208650   \n",
      "1.720851    1.720851  1.115550e+00   2.694770    True       True  1.928980   \n",
      "1.512300    1.512300  7.712150e-02   1.346300    True      False  0.687868   \n",
      "2.448403    2.448403  2.645940e+00   3.761650   False       True  3.179720   \n",
      "0.303546    0.303546  6.014360e-02   0.586637    True       True  0.256691   \n",
      "0.108144    0.108144  4.056030e-06   0.146360    True       True  0.056308   \n",
      "0.030058    0.030058  5.823260e-08   0.113640    True       True  0.030346   \n",
      "2.189501    2.189501  1.820560e+00   2.209940    True       True  1.994710   \n",
      "2.189501    2.189501  1.820560e+00   2.209940    True       True  1.994710   \n",
      "0.469887    0.469887  3.089870e-01   0.620291    True       True  0.462212   \n",
      "0.866793    0.866793  6.187570e-01   1.118420    True       True  0.857955   \n",
      "0.882879    0.882879  6.253570e-01   0.893800    True       True  0.693985   \n",
      "0.558929    0.558929  2.329310e-01   0.538257    True      False  0.348197   \n",
      "0.323950    0.323950  2.675560e-01   0.439152    True       True  0.348089   \n",
      "0.323950    0.323950  2.675560e-01   0.439152    True       True  0.348089   \n",
      "0.737129    0.737129  4.710620e-01   0.798059    True       True  0.624902   \n",
      "0.296698    0.296698  1.700330e-01   0.383688    True       True  0.269986   \n",
      "0.715844    0.715844  5.731300e-01   0.786189    True       True  0.673261   \n",
      "0.332175    0.332175  2.051330e-01   0.398441    True       True  0.296500   \n",
      "0.383670    0.383670  3.276770e-01   0.440905    True       True  0.373220   \n",
      "0.280442    0.280442  2.000160e-01   0.334179    True       True  0.260578   \n",
      "0.103228    0.103228  7.294710e-02   0.158966    True       True  0.113126   \n",
      "0.103228    0.103228  7.294710e-02   0.158966    True       True  0.113126   \n",
      "0.990024    0.990024  7.938980e-01   1.061310    True       True  0.921826   \n",
      "0.022519    0.022519  6.705240e-03   0.045488    True       True  0.023350   \n",
      "0.022519    0.022519  6.705240e-03   0.045488    True       True  0.023350   \n",
      "1.833047    1.833047  1.373240e+00   1.756460    True      False  1.556340   \n",
      "0.494656    0.494656  4.332400e-01   0.672845    True       True  0.540937   \n",
      "0.494656    0.494656  4.332400e-01   0.672845    True       True  0.540937   \n",
      "2.024749    2.024749  1.524720e+00   2.197150    True       True  1.778870   \n",
      "0.606499    0.606499  4.686330e-01   0.697136    True       True  0.572615   \n",
      "0.606499    0.606499  4.686330e-01   0.697136    True       True  0.572615   \n",
      "2.176176    2.176176  2.274140e+00   3.306800   False       True  2.767120   \n",
      "2.903476    2.903476  2.452980e+00   3.201270    True       True  2.790020   \n",
      "1.213558    1.213558  7.120170e-01   1.448280    True       True  1.073520   \n",
      "0.786356    0.786356  5.785610e-01   1.224200    True       True  0.849328   \n",
      "0.903562    0.903562  7.087370e-01   0.988312    True       True  0.844435   \n",
      "0.903562    0.903562  7.087370e-01   0.988312    True       True  0.844435   \n",
      "1.574319    1.574319  1.215100e+00   1.976600    True       True  1.533920   \n",
      "0.115598    0.115598  1.044160e-01   0.225307    True       True  0.159551   \n",
      "0.115598    0.115598  1.044160e-01   0.225307    True       True  0.159551   \n",
      "5.686189    5.686189  4.592550e+00   6.084690    True       True  5.308310   \n",
      "0.905763    0.905763  8.359060e-01   1.139500    True       True  0.962923   \n",
      "0.905763    0.905763  8.359060e-01   1.139500    True       True  0.962923   \n",
      "\n",
      "             devcol  \n",
      "0.000000   0.000000  \n",
      "9.356401  -0.071371  \n",
      "9.356401  -0.071371  \n",
      "10.137514 -0.158618  \n",
      "1.043598   0.038734  \n",
      "8.312804  -0.104154  \n",
      "1.720851   0.208129  \n",
      "1.512300  -0.824432  \n",
      "2.448403   0.731317  \n",
      "0.303546  -0.046855  \n",
      "0.108144  -0.051835  \n",
      "0.030058   0.000289  \n",
      "2.189501  -0.194791  \n",
      "2.189501  -0.194791  \n",
      "0.469887  -0.007675  \n",
      "0.866793  -0.008838  \n",
      "0.882879  -0.188894  \n",
      "0.558929  -0.210732  \n",
      "0.323950   0.024139  \n",
      "0.323950   0.024139  \n",
      "0.737129  -0.112227  \n",
      "0.296698  -0.026712  \n",
      "0.715844  -0.042583  \n",
      "0.332175  -0.035675  \n",
      "0.383670  -0.010450  \n",
      "0.280442  -0.019864  \n",
      "0.103228   0.009898  \n",
      "0.103228   0.009898  \n",
      "0.990024  -0.068198  \n",
      "0.022519   0.000832  \n",
      "0.022519   0.000832  \n",
      "1.833047  -0.276707  \n",
      "0.494656   0.046281  \n",
      "0.494656   0.046281  \n",
      "2.024749  -0.245879  \n",
      "0.606499  -0.033884  \n",
      "0.606499  -0.033884  \n",
      "2.176176   0.590944  \n",
      "2.903476  -0.113456  \n",
      "1.213558  -0.140038  \n",
      "0.786356   0.062972  \n",
      "0.903562  -0.059127  \n",
      "0.903562  -0.059127  \n",
      "1.574319  -0.040399  \n",
      "0.115598   0.043953  \n",
      "0.115598   0.043953  \n",
      "5.686189  -0.377879  \n",
      "0.905763   0.057160  \n",
      "0.905763   0.057160  \n"
     ]
    }
   ],
   "source": [
    "print(df)"
   ]
  },
  {
   "cell_type": "code",
   "execution_count": null,
   "metadata": {
    "collapsed": true
   },
   "outputs": [],
   "source": []
  }
 ],
 "metadata": {
  "kernelspec": {
   "display_name": "Python 2",
   "language": "python",
   "name": "python2"
  },
  "language_info": {
   "codemirror_mode": {
    "name": "ipython",
    "version": 2
   },
   "file_extension": ".py",
   "mimetype": "text/x-python",
   "name": "python",
   "nbconvert_exporter": "python",
   "pygments_lexer": "ipython2",
   "version": "2.7.10"
  }
 },
 "nbformat": 4,
 "nbformat_minor": 0
}
