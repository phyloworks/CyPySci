{
 "cells": [
  {
   "cell_type": "markdown",
   "metadata": {},
   "source": [
    "# Brief Tutorial on iPython Notebooks\n",
    "+ What is an iPython Notebook?\n",
    "\n",
    "Briefly, an iPython notebook is a format for running and visualizing code. It takes advantage of your browser's ability to render attractive HTML documents in order to weave together words, code fragments and output.\n",
    "\n",
    "+ What is it good for?\n",
    "\n",
    "Teaching, since they allow for notes to be interspersed in the code. Visualizing and sharing notes.\n",
    "\n",
    "\n",
    "Which is what we're going to do today."
   ]
  },
  {
   "cell_type": "code",
   "execution_count": null,
   "metadata": {
    "collapsed": true
   },
   "outputs": [],
   "source": [
    "import dendropy\n",
    "from dendropy.calculate import treemeasure\n",
    "import pandas\n",
    "import sys\n",
    "import glob\n",
    "import numpy as np"
   ]
  },
  {
   "cell_type": "markdown",
   "metadata": {},
   "source": [
    "Above, I created a couple global variables. I thought I might need them."
   ]
  },
  {
   "cell_type": "code",
   "execution_count": null,
   "metadata": {
    "collapsed": true
   },
   "outputs": [],
   "source": [
    "def initializer():\n",
    "#Load Tree\n",
    "\ttree = dendropy.Tree.get(path='test/p3p511.tre', schema=\"nexus\", rooting=\"default-unrooted\")\n",
    "#Get Edges from tree\n",
    "\tedges = [edge.length for edge in tree.preorder_edge_iter()]\n",
    "\tedges[0] = 0\n",
    "#Start a pandas dataframe\n",
    "\tdf = pandas.DataFrame(pandas.Series(edges, edges),columns=['true'])\n",
    "#Use the correct edges as the header\n",
    "\treturn(df)"
   ]
  },
  {
   "cell_type": "markdown",
   "metadata": {},
   "source": [
    "Above, I read in a tree from standard input (the command line), extracted the branch lengths, and loaded them into a pandas dataframe"
   ]
  },
  {
   "cell_type": "code",
   "execution_count": null,
   "metadata": {
    "collapsed": false
   },
   "outputs": [],
   "source": [
    "initializer()"
   ]
  },
  {
   "cell_type": "code",
   "execution_count": null,
   "metadata": {
    "collapsed": false
   },
   "outputs": [],
   "source": [
    "def get_tree_list():\n",
    "\tcontainer = [file for file in glob.glob('test/*.con')]\n",
    "\ttreelist = dendropy.TreeList()\t\n",
    "\tfor file in container:\n",
    "\t\tprint(\"processing file %s\" % file)\n",
    "\t\ttree = dendropy.Tree.get(path=file, schema=\"nexus\", extract_comment_metadata=True, rooting=\"default-unrooted\")\n",
    "\t\ttreelist.append(tree)\n",
    "\treturn(treelist, container)"
   ]
  },
  {
   "cell_type": "markdown",
   "metadata": {},
   "source": [
    "Above, what we do is use glob to find all the files with a certain extension. Then, we iterate over those files, reading them in with Dendropy and parsing any annotations on them. Finally, we return the filename and the annotations to use in the next function"
   ]
  },
  {
   "cell_type": "code",
   "execution_count": null,
   "metadata": {
    "collapsed": false
   },
   "outputs": [],
   "source": [
    "get_tree_list()"
   ]
  },
  {
   "cell_type": "code",
   "execution_count": null,
   "metadata": {
    "collapsed": false
   },
   "outputs": [],
   "source": [
    "def proc_trees(treelist):\n",
    "\tprint treelist\n",
    "\tdf_list = []\n",
    "\tfor tree in treelist:\n",
    "\t\tprint('Calculating tree: %s' % tree)\n",
    "\t\tnode_hpd = [nd.annotations.findall(name='length_hpd95') for nd in tree.preorder_node_iter()]\n",
    "\t\tnode_med = [nd.annotations.findall(name='length_median') for nd in tree.preorder_node_iter()]\n",
    "\t\tkvs = [nd.values_as_dict() for nd in node_hpd]\n",
    "\t\tgnocchi = [kv.values() for kv in kvs]\n",
    "\t\tmax = [float(line[0][1]) for line in gnocchi]\n",
    "\t\tmin = [float(line[0][0]) for line in gnocchi]\n",
    "\t\tdf['min'] = pandas.Series(min, index=df.index)\n",
    "\t\tdf['max'] = pandas.Series(max, index=df.index)\n",
    "\t\tdf['boolcol'] = df['min'] < df['true']\n",
    "\t\tdf['boolcolmax'] = df['max'] > df['true']\n",
    "\t\tkvs = [nd.values_as_dict() for nd in node_med]\n",
    "\t\tgnocchi = [kv.values() for kv in kvs]\n",
    "\t\tmed = [float(line[0]) for line in gnocchi]\n",
    "\t\tdf['med'] = pandas.Series(med, index=df.index)\n",
    "\t\tdf['devcol'] = df['med'] - df['true']\n",
    "\t\tdf_list.append(df)\n",
    "\treturn(df_list)"
   ]
  },
  {
   "cell_type": "markdown",
   "metadata": {},
   "source": [
    "This takes the values in node_hpd and breaks them apart into individual lists of values."
   ]
  },
  {
   "cell_type": "markdown",
   "metadata": {},
   "source": [
    "Then we crunch them into a pandas dataframe and create two column, which are boolean. "
   ]
  },
  {
   "cell_type": "code",
   "execution_count": null,
   "metadata": {
    "collapsed": false
   },
   "outputs": [],
   "source": [
    "\n",
    "def count_correct(df_list, container):\n",
    "\tfor file in container:\n",
    "\t\tprint('Exporting %s' % file)\n",
    "\t\tfor df in df_list:\n",
    "\t\t\tmin_true = (df.boolcol==True).sum()\n",
    "\t\t\tmax_true = int((df.boolcolmax==True).sum())\n",
    "\t\t\tcount = int(df.boolcol.count())\n",
    "\t\t\tdf.to_csv(\"%s.csv\" % file)\n",
    "\t\tprint('Number of nodes above minimum age %s \\n \\\n",
    "\t\tNumber of nodes under maximum: %s' % (min_true, max_true))\n",
    "\treturn(min_true, max_true)\t\n",
    "\t\t"
   ]
  },
  {
   "cell_type": "markdown",
   "metadata": {},
   "source": [
    "So there, all our functions are defined. Now we can call them all."
   ]
  },
  {
   "cell_type": "code",
   "execution_count": null,
   "metadata": {
    "collapsed": false
   },
   "outputs": [],
   "source": [
    "if __name__ == \"__main__\":\n",
    "\tdf = initializer()\n",
    "\ttreelist, container = get_tree_list()\n",
    "\tdf_list = proc_trees(treelist)\n",
    "\tmin, max = count_correct(df_list, container)\n"
   ]
  },
  {
   "cell_type": "code",
   "execution_count": null,
   "metadata": {
    "collapsed": false
   },
   "outputs": [],
   "source": [
    "print(df)"
   ]
  },
  {
   "cell_type": "code",
   "execution_count": null,
   "metadata": {
    "collapsed": true
   },
   "outputs": [],
   "source": []
  }
 ],
 "metadata": {
  "kernelspec": {
   "display_name": "Python 2",
   "language": "python",
   "name": "python2"
  },
  "language_info": {
   "codemirror_mode": {
    "name": "ipython",
    "version": 2
   },
   "file_extension": ".py",
   "mimetype": "text/x-python",
   "name": "python",
   "nbconvert_exporter": "python",
   "pygments_lexer": "ipython2",
   "version": "2.7.10"
  }
 },
 "nbformat": 4,
 "nbformat_minor": 0
}
