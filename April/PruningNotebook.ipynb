{
 "cells": [
  {
   "cell_type": "code",
   "execution_count": null,
   "metadata": {
    "collapsed": true
   },
   "outputs": [],
   "source": [
    "import dendropy\n",
    "import glob\n",
    "from multiprocessing import Pool\n",
    "from multiprocessing.dummy import Pool as ThreadPool \n",
    "import sys"
   ]
  },
  {
   "cell_type": "code",
   "execution_count": null,
   "metadata": {
    "collapsed": true
   },
   "outputs": [],
   "source": [
    "def get_files():\n",
    "\tflist = []\n",
    "\tfor file in glob.glob(sys.argv[1]):\n",
    "\t\tflist.append(file)\n",
    "\treturn(flist)\n"
   ]
  },
  {
   "cell_type": "code",
   "execution_count": null,
   "metadata": {
    "collapsed": true
   },
   "outputs": [],
   "source": [
    "def do_prune(flist):\n",
    "\tprint(flist)\t\n",
    "\n",
    "\tts = dendropy.TreeList.get_from_path(flist, \"nexus\", preserve_underscores=True, tree_offset=4000)\n",
    "\tretain_labels = []\n",
    "\tremove_labels = []\n",
    "\n",
    "\ttreeZero = ts[0]\n",
    "\tfor node in treeZero.leaf_node_iter():\n",
    "\t\t\tif 'T' in node.taxon.label:\n",
    "\t\t\t\tretain_labels.append(node.taxon.label)\n",
    "\t\t\telif 'X' in node.taxon.label:\n",
    "\t\t\t\tremove_labels.append(node.taxon.label)\t\n",
    "\n",
    "\t[tree.retain_taxa_with_labels(retain_labels) for tree in ts]\n",
    "\tnew_name = './' + flist + '.pruned'\n",
    "\tprint(new_name)\n",
    "\t[ts.taxon_namespace.remove_taxon_label(label) for label in remove_labels]\n",
    "\tts.write(path = new_name, schema = 'nexus')"
   ]
  },
  {
   "cell_type": "code",
   "execution_count": null,
   "metadata": {
    "collapsed": true
   },
   "outputs": [],
   "source": [
    "def pruneParallel(flist, threads=2):\n",
    "    pool = ThreadPool(threads)\n",
    "    results = pool.map(do_prune, flist)\n",
    "    pool.close()\n",
    "    pool.join()\n",
    "    return results\t"
   ]
  },
  {
   "cell_type": "code",
   "execution_count": null,
   "metadata": {
    "collapsed": true
   },
   "outputs": [],
   "source": [
    "if __name__ == '__main__':\t\t\n",
    "\tflist = get_files()\n",
    "\tpruneParallel(flist, threads=4)"
   ]
  }
 ],
 "metadata": {
  "kernelspec": {
   "display_name": "Python 2",
   "language": "python",
   "name": "python2"
  },
  "language_info": {
   "codemirror_mode": {
    "name": "ipython",
    "version": 2
   },
   "file_extension": ".py",
   "mimetype": "text/x-python",
   "name": "python",
   "nbconvert_exporter": "python",
   "pygments_lexer": "ipython2",
   "version": "2.7.11"
  }
 },
 "nbformat": 4,
 "nbformat_minor": 0
}
