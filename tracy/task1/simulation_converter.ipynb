{
 "cells": [
  {
   "cell_type": "markdown",
   "metadata": {},
   "source": [
    "## Conversion of simulations for analysis in RevBayes\n",
    "\n",
    "I need to write a file in Rev to run an analysis in RevBayes"
   ]
  },
  {
   "cell_type": "markdown",
   "metadata": {},
   "source": [
    "The first part imports some libraries"
   ]
  },
  {
   "cell_type": "code",
   "execution_count": null,
   "metadata": {
    "collapsed": true
   },
   "outputs": [],
   "source": [
    "import sys\n",
    "import re"
   ]
  },
  {
   "cell_type": "markdown",
   "metadata": {},
   "source": [
    "This is the template for defining the stochastic node for each fossil in the Rev language"
   ]
  },
  {
   "cell_type": "code",
   "execution_count": null,
   "metadata": {
    "collapsed": true
   },
   "outputs": [],
   "source": [
    "calibration_templ = \"\"\"\n",
    "tmrca_NODENAME := tmrca(timetree,NODENAME)\n",
    "n_TMRCA_NODENAME := -(tmrca_NODENAME)\n",
    "NODENAME_fossil_age <- -FOSSILAGE\n",
    "NODENAME_true_age <- TRUENODEAGE\n",
    "NODENAME_lambda <- 1.0 / (NODENAME_true_age - FOSSILAGE)\n",
    "NODENAME_fossil_snode ~ dnExponential(lambda=NODENAME_lambda, offset=n_TMRCA_NODENAME)\n",
    "NODENAME_fossil_snode.clamp(NODENAME_fossil_age)\n",
    "\"\"\""
   ]
  },
  {
   "cell_type": "markdown",
   "metadata": {},
   "source": [
    "Next, I set the number of simulation arguments. Since this is a prototype script, the number of replicates is equal to 1."
   ]
  },
  {
   "cell_type": "code",
   "execution_count": null,
   "metadata": {
    "collapsed": true
   },
   "outputs": [],
   "source": [
    "nreps = 1"
   ]
  },
  {
   "cell_type": "markdown",
   "metadata": {},
   "source": [
    "### Reading from File"
   ]
  },
  {
   "cell_type": "markdown",
   "metadata": {},
   "source": [
    "This script will read the contents of a template Rev file containing all of the necessary Rev code with placeholders in it. The placeholders are simply text tags that will get replaced with the run-specific code. \n",
    "\n",
    "Set the template file name. This is a simple string contained in a variable."
   ]
  },
  {
   "cell_type": "code",
   "execution_count": null,
   "metadata": {
    "collapsed": true
   },
   "outputs": [],
   "source": [
    "rev_temp_fn = \"rev_temp.Rev\""
   ]
  },
  {
   "cell_type": "markdown",
   "metadata": {},
   "source": [
    "Open the file and assign it to a variable called \"file\". To do this, the \"open\" function is used and the arguments of this function are the file name (a string) and another string that specifies the mode of the file. The most common modes are 'r' or 'w' that stand for \"read\" and \"write\", respectively. "
   ]
  },
  {
   "cell_type": "code",
   "execution_count": null,
   "metadata": {
    "collapsed": false
   },
   "outputs": [],
   "source": [
    "file = open(rev_temp_fn, 'r')"
   ]
  },
  {
   "cell_type": "markdown",
   "metadata": {},
   "source": [
    "Now, the entire contents of the file called \"rev_temp.Rev\" will be read into memory and stored in a variable."
   ]
  },
  {
   "cell_type": "code",
   "execution_count": null,
   "metadata": {
    "collapsed": true
   },
   "outputs": [],
   "source": [
    "rev_template = file.read()"
   ]
  },
  {
   "cell_type": "markdown",
   "metadata": {},
   "source": [
    "Close the file"
   ]
  },
  {
   "cell_type": "code",
   "execution_count": null,
   "metadata": {
    "collapsed": true
   },
   "outputs": [],
   "source": [
    "file.close()"
   ]
  },
  {
   "cell_type": "markdown",
   "metadata": {},
   "source": [
    "### Looping Through Each Replicate\n",
    "\n",
    "Each simulation replicate will be treated in the same way. We use a for loop to iterate over each simulation replicate.  \n",
    "\n",
    "First we create a string that is the prefix of the filename used by all simulation replicates"
   ]
  },
  {
   "cell_type": "code",
   "execution_count": null,
   "metadata": {
    "collapsed": true
   },
   "outputs": [],
   "source": [
    "f_prfx = \"B_sfbd_\""
   ]
  },
  {
   "cell_type": "markdown",
   "metadata": {},
   "source": [
    "Here is the entire loop"
   ]
  },
  {
   "cell_type": "code",
   "execution_count": null,
   "metadata": {
    "collapsed": false
   },
   "outputs": [],
   "source": [
    "for i in range(nreps):\n",
    "\tcal_fn = f_prfx + str(i) + \".calrnd_true.cal\"\n",
    "\tdat_fn = f_prfx + str(i) + \".dat\"\n",
    "\ttre_fn = f_prfx + str(i) + \".SCL.tre\"\n",
    "\tout_pfx = \"R\" + f_prfx + str(i)\n",
    "\trev_file_name = out_pfx + \"_tru_cal.Rev\"\n",
    "\trev_out = rev_template.replace(\"SEQDATAFILE\",dat_fn)\n",
    "\trev_out = rev_out.replace(\"TRUETREEFILE\",tre_fn)\n",
    "\trev_out = rev_out.replace(\"OUTPUTFILEPFX\",out_pfx)\n",
    "\tfile = open(cal_fn, 'rU')\n",
    "\tcal_d = file.read().strip().split('\\n')\n",
    "\tfile.close()\n",
    "\tnodes = {}\n",
    "\tclade_names = []\n",
    "\tc = 0\n",
    "\troot_node = []\n",
    "\toldest = 0.0\n",
    "\tfor line in cal_d[1:]:\n",
    "\t\tl = line.split()\n",
    "\t\tif(l[1] == 'root'):\n",
    "\t\t\tmin_age = l[-3]\n",
    "\t\t\ttru_age = l[-1]\n",
    "\t\t\troot_node = [min_age, tru_age]\n",
    "\t\t\tif(float(min_age) > oldest):\n",
    "\t\t\t\toldest = float(min_age)\n",
    "\t\telse:\n",
    "\t\t\ttaxa = l[1:3]\n",
    "\t\t\tmin_age = l[-3]\n",
    "\t\t\tif(float(min_age) > oldest):\n",
    "\t\t\t\toldest = float(min_age)\n",
    "\t\t\ttru_age = l[-1]\n",
    "\t\t\tclade = \"clade\" + str(c)\n",
    "\t\t\tclade_names += [clade]\n",
    "\t\t\ttax_str = clade + \" <- clade(\\\"\" + taxa[0] + \"\\\",\\\"\" + taxa[1] + \"\\\")\"\n",
    "\t\t\tnodes[clade] = [tax_str, min_age, tru_age]\n",
    "\t\t\tc += 1\n",
    "\tconstraints_def = \"\"\n",
    "\tconstraints_names = \"\"\n",
    "\tfor j in clade_names:\n",
    "\t\tconstraints_def += nodes[j][0] + \"\\n\"\n",
    "\t\tconstraints_names += j + \", \"\n",
    "\trev_out = rev_out.replace(\"CLADEVARDEF\",constraints_def)\n",
    "\trev_out = rev_out.replace(\"ROOTAGEMIN\",str(oldest))\n",
    "\tcalibration_defs = \"\"\n",
    "\tfor j in clade_names:\n",
    "\t\tcalib = calibration_templ.replace(\"NODENAME\",j)\n",
    "\t\tfoss_age = nodes[j][1]\n",
    "\t\ttrue_age = nodes[j][2]\n",
    "\t\tcalib = calib.replace(\"FOSSILAGE\",foss_age)\n",
    "\t\tcalib = calib.replace(\"TRUENODEAGE\",true_age)\n",
    "\t\tcalibration_defs += calib + \"\\n\"\n",
    "\trev_out = rev_out.replace(\"CALIBRATIONDEFS\",calibration_defs)\n",
    "\tout = open(rev_file_name,'w')\n",
    "\tout.write(rev_out)\n",
    "\tout.close()"
   ]
  },
  {
   "cell_type": "markdown",
   "metadata": {},
   "source": []
  }
 ],
 "metadata": {
  "kernelspec": {
   "display_name": "Python 3",
   "language": "python",
   "name": "python3"
  },
  "language_info": {
   "codemirror_mode": {
    "name": "ipython",
    "version": 3
   },
   "file_extension": ".py",
   "mimetype": "text/x-python",
   "name": "python",
   "nbconvert_exporter": "python",
   "pygments_lexer": "ipython3",
   "version": "3.4.3"
  }
 },
 "nbformat": 4,
 "nbformat_minor": 0
}
