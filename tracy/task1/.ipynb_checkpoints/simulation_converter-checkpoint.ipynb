{
 "cells": [
  {
   "cell_type": "markdown",
   "metadata": {},
   "source": [
    "## Conversion of simulations for analysis in RevBayes\n",
    "\n",
    "I need to write a file in Rev to run an analysis in RevBayes"
   ]
  },
  {
   "cell_type": "markdown",
   "metadata": {},
   "source": [
    "The first part imports some libraries"
   ]
  },
  {
   "cell_type": "code",
   "execution_count": 1,
   "metadata": {
    "collapsed": true
   },
   "outputs": [],
   "source": [
    "import sys\n",
    "import re"
   ]
  },
  {
   "cell_type": "markdown",
   "metadata": {},
   "source": []
  },
  {
   "cell_type": "code",
   "execution_count": 2,
   "metadata": {
    "collapsed": true
   },
   "outputs": [],
   "source": [
    "calibration_templ = \"\"\"\n",
    "tmrca_NODENAME := tmrca(timetree,NODENAME)\n",
    "n_TMRCA_NODENAME := -(tmrca_NODENAME)\n",
    "NODENAME_fossil_age <- -FOSSILAGE\n",
    "NODENAME_true_age <- TRUENODEAGE\n",
    "NODENAME_lambda <- 1.0 / (NODENAME_true_age - FOSSILAGE)\n",
    "NODENAME_fossil_snode ~ dnExponential(lambda=NODENAME_lambda, offset=n_TMRCA_NODENAME)\n",
    "NODENAME_fossil_snode.clamp(NODENAME_fossil_age)\n",
    "\"\"\""
   ]
  },
  {
   "cell_type": "markdown",
   "metadata": {},
   "source": []
  }
 ],
 "metadata": {
  "kernelspec": {
   "display_name": "Python 3",
   "language": "python",
   "name": "python3"
  },
  "language_info": {
   "codemirror_mode": {
    "name": "ipython",
    "version": 3
   },
   "file_extension": ".py",
   "mimetype": "text/x-python",
   "name": "python",
   "nbconvert_exporter": "python",
   "pygments_lexer": "ipython3",
   "version": "3.4.3"
  }
 },
 "nbformat": 4,
 "nbformat_minor": 0
}
